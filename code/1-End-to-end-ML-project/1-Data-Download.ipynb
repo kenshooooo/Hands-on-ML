{
 "cells": [
  {
   "cell_type": "code",
   "execution_count": null,
   "metadata": {},
   "outputs": [],
   "source": []
  }
 ],
 "metadata": {
  "kernelspec": {
   "display_name": "base",
   "language": "python",
   "name": "python3"
  },
  "language_info": {
   "name": "python",
   "version": "3.8.5 (default, Sep  3 2020, 21:29:08) [MSC v.1916 64 bit (AMD64)]"
  },
  "orig_nbformat": 4,
  "vscode": {
   "interpreter": {
    "hash": "4a6f03e83f1da8e048532747f4aa725a0c17845a3beabd07fcfc9d4568328f14"
   }
  }
 },
 "nbformat": 4,
 "nbformat_minor": 2
}
